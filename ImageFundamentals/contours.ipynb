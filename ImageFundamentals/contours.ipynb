{
 "cells": [
  {
   "cell_type": "code",
   "execution_count": null,
   "metadata": {},
   "outputs": [],
   "source": [
    "import cv2\n",
    "import numpy as np\n",
    "from matplotlib import pyplot as plt\n",
    "import imutils"
   ]
  },
  {
   "cell_type": "code",
   "execution_count": null,
   "metadata": {},
   "outputs": [],
   "source": [
    "def displayColorImage(image, title):\n",
    "    plt.imshow(cv2.cvtColor(image, cv2.COLOR_BGR2RGB), interpolation=\"nearest\")\n",
    "    plt.title(title)\n",
    "    plt.show()"
   ]
  },
  {
   "cell_type": "code",
   "execution_count": null,
   "metadata": {},
   "outputs": [],
   "source": [
    "def displayGrayScaleImage(image, title):\n",
    "    plt.imshow(image, cmap='gray', vmin = 0.0, vmax = 255.0)\n",
    "    plt.title(title)\n",
    "    plt.show()"
   ]
  },
  {
   "cell_type": "markdown",
   "metadata": {},
   "source": [
    "### Draw image"
   ]
  },
  {
   "cell_type": "code",
   "execution_count": null,
   "metadata": {},
   "outputs": [],
   "source": [
    "surface = np.zeros((600,600,3), dtype=\"uint8\")\n",
    "green = (0, 255, 0)\n",
    "cv2.rectangle(surface, (250,300), (120,150), green, 30)\n",
    "cv2.circle(surface, (400,400), 50, (255,0,0), 150)\n",
    "displayColorImage(surface, \"with recangle\")\n"
   ]
  },
  {
   "cell_type": "code",
   "execution_count": null,
   "metadata": {},
   "outputs": [],
   "source": [
    "# Convert it to grayscale\n",
    "gray = cv2.cvtColor(cv2.cvtColor(surface, cv2.COLOR_BGR2RGB), cv2.COLOR_BGR2GRAY)\n",
    "displayGrayScaleImage(gray, \"Gray Scale Image\")"
   ]
  },
  {
   "cell_type": "markdown",
   "metadata": {},
   "source": [
    "### Finding Coontours and drawing contours"
   ]
  },
  {
   "cell_type": "code",
   "execution_count": null,
   "metadata": {},
   "outputs": [],
   "source": [
    "ct = cv2.findContours(gray.copy(), cv2.RETR_LIST, cv2.CHAIN_APPROX_SIMPLE)\n",
    "ct = imutils.grab_contours(ct)\n",
    "print(\"Here are the contours\".format(ct))\n",
    "cl = surface.copy()\n",
    "cv2.drawContours(cl, ct, -1, (0,0,255),5)\n"
   ]
  },
  {
   "cell_type": "code",
   "execution_count": null,
   "metadata": {},
   "outputs": [],
   "source": [
    "displayColorImage(cl, \"image with all contours\")"
   ]
  },
  {
   "cell_type": "markdown",
   "metadata": {},
   "source": [
    "### Draw only external contours"
   ]
  },
  {
   "cell_type": "code",
   "execution_count": null,
   "metadata": {},
   "outputs": [],
   "source": [
    "ct = cv2.findContours(gray.copy(), cv2.RETR_EXTERNAL, cv2.CHAIN_APPROX_SIMPLE)\n",
    "ct = imutils.grab_contours(ct)\n",
    "print(\"Here are the contours\".format(ct))\n",
    "cl = surface.copy()\n",
    "cv2.drawContours(cl, ct, -1, (0,0,255),5)\n",
    "displayColorImage(cl, \"image with external contours\")"
   ]
  },
  {
   "cell_type": "markdown",
   "metadata": {},
   "source": [
    "### Isolating objects"
   ]
  },
  {
   "cell_type": "code",
   "execution_count": null,
   "metadata": {},
   "outputs": [],
   "source": [
    "for c in ct:\n",
    "    m = np.zeros(gray.shape, dtype=\"uint8\")\n",
    "    cv2.drawContours(m, [c], -1, 255, -1)\n",
    "    displayColorImage(surface, \"original image\")\n",
    "    displayGrayScaleImage(m, \"mask\")\n",
    "    displayColorImage(cv2.bitwise_and(surface, surface, mask=m), \"image and mask\")\n",
    "    "
   ]
  },
  {
   "cell_type": "code",
   "execution_count": null,
   "metadata": {},
   "outputs": [],
   "source": []
  }
 ],
 "metadata": {
  "kernelspec": {
   "display_name": "Python 3",
   "language": "python",
   "name": "python3"
  },
  "language_info": {
   "codemirror_mode": {
    "name": "ipython",
    "version": 3
   },
   "file_extension": ".py",
   "mimetype": "text/x-python",
   "name": "python",
   "nbconvert_exporter": "python",
   "pygments_lexer": "ipython3",
   "version": "3.6.9"
  }
 },
 "nbformat": 4,
 "nbformat_minor": 2
}

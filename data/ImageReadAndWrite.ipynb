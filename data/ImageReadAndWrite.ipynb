{
 "cells": [
  {
   "cell_type": "code",
   "execution_count": 2,
   "metadata": {},
   "outputs": [],
   "source": [
    "import cv2\n",
    "import numpy as np"
   ]
  },
  {
   "cell_type": "code",
   "execution_count": 3,
   "metadata": {},
   "outputs": [
    {
     "name": "stdout",
     "output_type": "stream",
     "text": [
      "image shape: (800, 800, 3) \n",
      "image width: 800\n",
      "image height: 800\n",
      "Number of RGB Channels 800\n",
      "[114  87  98]\n"
     ]
    }
   ],
   "source": [
    "image = cv2.imread(\"../data/logo.png\")\n",
    "print(\"image shape: %s \" % str(image.shape))\n",
    "print(\"image width: %d\" % image.shape[0])\n",
    "print(\"image height: %d\" % image.shape[1])\n",
    "print(\"Number of RGB Channels %d\" % image.shape[0])\n",
    "print(image[0,0])\n",
    "cv2.imshow(\"logo\", image)\n",
    "#cv2.waitKey(10)\n",
    "#cv2.imwrite(\"log2.jpg\", image)\n",
    "w = image.shape[0]\n",
    "h = image.shape[1]\n",
    "\n",
    "\n",
    "\n",
    "\n",
    "\n"
   ]
  },
  {
   "cell_type": "code",
   "execution_count": 4,
   "metadata": {},
   "outputs": [
    {
     "name": "stdout",
     "output_type": "stream",
     "text": [
      "400\n",
      "400\n"
     ]
    }
   ],
   "source": [
    "cx, cy = (w//2, h//2)\n",
    "print(cx)\n",
    "print(cy)"
   ]
  },
  {
   "cell_type": "code",
   "execution_count": null,
   "metadata": {},
   "outputs": [],
   "source": [
    "top_left = image[0:cy, 0:cx]\n",
    "top_right = image[0:cy, cx:w]\n",
    "bottom_left = image[cy:h, 0:cx]\n",
    "bottom_right = image[cy:h, cx:w]\n",
    "image[0:cy, 0:cx] = (0,255,0)\n",
    "cv2.imshow(\"top left\", top_left)\n",
    "cv2.imshow(\"top right\", top_right)\n",
    "cv2.imshow(\"bottom left\", bottom_left)\n",
    "cv2.imshow(\"bottom right\", bottom_right)\n",
    "\n",
    "cv2.waitKey(0)\n",
    "\n",
    "\n"
   ]
  },
  {
   "cell_type": "code",
   "execution_count": null,
   "metadata": {},
   "outputs": [],
   "source": []
  }
 ],
 "metadata": {
  "kernelspec": {
   "display_name": "Python 3",
   "language": "python",
   "name": "python3"
  },
  "language_info": {
   "codemirror_mode": {
    "name": "ipython",
    "version": 3
   },
   "file_extension": ".py",
   "mimetype": "text/x-python",
   "name": "python",
   "nbconvert_exporter": "python",
   "pygments_lexer": "ipython3",
   "version": "3.6.9"
  }
 },
 "nbformat": 4,
 "nbformat_minor": 2
}
